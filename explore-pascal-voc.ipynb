{
 "cells": [
  {
   "cell_type": "markdown",
   "metadata": {},
   "source": [
    "## Config"
   ]
  },
  {
   "cell_type": "code",
   "execution_count": null,
   "metadata": {},
   "outputs": [],
   "source": [
    "%matplotlib inline\n",
    "%load_ext autoreload\n",
    "%autoreload 2\n",
    "from common import *\n",
    "import competitions.pascalvoc as comp;"
   ]
  },
  {
   "cell_type": "code",
   "execution_count": null,
   "metadata": {},
   "outputs": [],
   "source": [
    "comp.make_metadata_file('2007')\n",
    "comp.make_metadata_file('2012')\n",
    "meta2007 = comp.load_metadata('2007')\n",
    "meta2012 = comp.load_metadata('2012')\n",
    "fold2007 = comp.make_2007_fold()\n",
    "fold2012 = comp.make_2012_fold()\n",
    "meta = meta2007\n",
    "fold = fold2007\n",
    "print(\"val\",len(fold['val']), 'trn',len(fold['trn']), 'tst',len(fold['tst']))\n",
    "\n",
    "TRAIN_PATH = meta['img_dir']\n",
    "TEST_PATH = meta['img_dir']"
   ]
  },
  {
   "cell_type": "code",
   "execution_count": null,
   "metadata": {},
   "outputs": [],
   "source": [
    "# View images\n",
    "fpaths,fnames = utils.files.get_paths_to_files(TRAIN_PATH, strip_ext=True)\n",
    "idx = random.randint(0, len(fpaths))\n",
    "img = utils.imgs.load_img_as_arr(fpaths[idx])\n",
    "bboxes= meta['imgs'][fnames[idx]]['bboxes']\n",
    "title = meta['imgs'][fnames[idx]]['img_id']\n",
    "utils.imgs.plot_img_w_bboxes(img, bboxes, title)"
   ]
  },
  {
   "cell_type": "code",
   "execution_count": null,
   "metadata": {
    "collapsed": true
   },
   "outputs": [],
   "source": [
    "HARDWARE_CONFIG = {\n",
    "    'hostname': socket.gethostname(),\n",
    "    'random_seed': 3,\n",
    "    'gpu_device':0\n",
    "}\n",
    "torch.cuda.set_device(HARDWARE_CONFIG['gpu_device'])\n",
    "torch.set_default_tensor_type('torch.cuda.FloatTensor')\n",
    "cudnn.benchmark = True\n",
    "\n",
    "DATA_CONFIG = {\n",
    "    'img_rescale': 300,\n",
    "    'dset_fold': '2007',\n",
    "    'n_classes': len(cfg.LABEL_NAMES) + 1, #extra background?\n",
    "    'img_mean': (104, 117, 123)\n",
    "}\n",
    "\n",
    "TRAIN_CONFIG = {\n",
    "    'initial_lr': 1e-3,\n",
    "    'weight_decay': 5e-4,\n",
    "    'momentum': 0.9,\n",
    "    'n_epochs': 132, #120K iters\n",
    "    'n_cycles': 9,\n",
    "    'early_stop_metric': metric.Loss().name,\n",
    "    'max_patience': 20,\n",
    "    'batch_size': 16,\n",
    "    'threshold': 0.5,\n",
    "    'save_weights_cadence': 1, #every epoch\n",
    "    'lr_schedule': {88: 1e-4, 110: 1e-5, 131: 1e-6}\n",
    "}\n",
    "\n",
    "OTHER_CONFIG = {}\n",
    "\n",
    "TRANSFORMS = {\n",
    "    c.TRAIN: torchsample.transforms.Compose([\n",
    "        data_aug.SSDAugmentation(DATA_CONFIG['img_rescale'], \n",
    "                                 DATA_CONFIG['img_mean'])\n",
    "    ]),\n",
    "    c.VAL: torchsample.transforms.Compose([\n",
    "        data_aug.SSDBaseAugmentation(DATA_CONFIG['img_rescale'], \n",
    "                                     DATA_CONFIG['img_mean'])\n",
    "    ]),\n",
    "    c.TEST: torchsample.transforms.Compose([\n",
    "        data_aug.SSDBaseAugmentation(DATA_CONFIG['img_rescale'], \n",
    "                                     DATA_CONFIG['img_mean'])\n",
    "    ]),\n",
    "    c.TARGET: torchsample.transforms.Compose([\n",
    "        data_aug.BBoxTransform(cfg.LABEL_TO_IDX)\n",
    "    ]),\n",
    "}"
   ]
  },
  {
   "cell_type": "markdown",
   "metadata": {},
   "source": [
    "## Data"
   ]
  },
  {
   "cell_type": "code",
   "execution_count": null,
   "metadata": {
    "collapsed": true
   },
   "outputs": [],
   "source": [
    "SAMPLE = 10000000\n",
    "trn_fpaths = data_folds.get_fpaths_from_fold(fold, c.TRAIN, TRAIN_PATH,\n",
    "                                             postfix=c.INPUT_POSTFIX)[:SAMPLE]\n",
    "val_fpaths = data_folds.get_fpaths_from_fold(fold, c.VAL, TRAIN_PATH,\n",
    "                                             postfix=c.INPUT_POSTFIX)[:SAMPLE]\n",
    "tst_fpaths = data_folds.get_fpaths_from_fold(fold, c.TEST, TEST_PATH, postfix=c.JPG_EXT)"
   ]
  },
  {
   "cell_type": "code",
   "execution_count": null,
   "metadata": {},
   "outputs": [],
   "source": [
    "utils.imgs.plot_samples_from_dir(TRAIN_PATH, shuffle=True)"
   ]
  },
  {
   "cell_type": "code",
   "execution_count": null,
   "metadata": {
    "collapsed": true
   },
   "outputs": [],
   "source": [
    "trn_dataset = datasets.datasets.ObjDetectDataset(TRAIN_PATH, fold[c.TRAIN][:SAMPLE], meta, \n",
    "                                                 transform=TRANSFORMS[c.TRAIN], \n",
    "                                                 target_transform=TRANSFORMS[c.TARGET])\n",
    "val_dataset = datasets.datasets.ObjDetectDataset(TRAIN_PATH, fold[c.VAL][:SAMPLE], meta, \n",
    "                                                 transform=TRANSFORMS[c.VAL], \n",
    "                                                 target_transform=TRANSFORMS[c.TARGET])\n",
    "tst_dataset = datasets.datasets.ObjDetectDataset(TRAIN_PATH, fold[c.TEST], meta, \n",
    "                                                 transform=TRANSFORMS[c.TEST], \n",
    "                                                 target_transform=TRANSFORMS[c.TARGET])\n",
    "trn_loader = torch.utils.data.DataLoader(trn_dataset, TRAIN_CONFIG['batch_size'], \n",
    "                                         shuffle=True, num_workers=4, pin_memory=True,\n",
    "                                         collate_fn=data_loaders.detection_collate)\n",
    "val_loader = torch.utils.data.DataLoader(val_dataset, batch_size=1, \n",
    "                                         shuffle=False, num_workers=1, pin_memory=True,\n",
    "                                         collate_fn=data_loaders.detection_collate)\n",
    "tst_loader = torch.utils.data.DataLoader(tst_dataset, batch_size=1, \n",
    "                                         shuffle=False, num_workers=1, pin_memory=True,\n",
    "                                         collate_fn=data_loaders.detection_collate)"
   ]
  },
  {
   "cell_type": "code",
   "execution_count": null,
   "metadata": {},
   "outputs": [],
   "source": [
    "idx = random.randint(0, len(trn_dataset))\n",
    "utils.imgs.plot_img_w_bboxes(trn_dataset.get_image(idx), \n",
    "                             trn_dataset.get_bboxes(idx), \n",
    "                             trn_dataset.get_fpath(idx))"
   ]
  },
  {
   "cell_type": "code",
   "execution_count": null,
   "metadata": {
    "collapsed": true,
    "scrolled": false
   },
   "outputs": [],
   "source": [
    "from models.ssd import ssd\n",
    "from models.ssd.multibox_loss import MultiBoxLoss\n",
    "from models.ssd.detection import Detect\n",
    "\n",
    "model = ssd.build_ssd('train', DATA_CONFIG['img_rescale'], \n",
    "                     DATA_CONFIG['n_classes'])\n",
    "vgg_weights_fpath = torch.load(os.path.join(\n",
    "    cfg.PATHS['project'], 'pretrained', \n",
    "    'vgg16_reducedfc.pth'))\n",
    "model.vgg.load_state_dict(vgg_weights_fpath)\n",
    "model = model.cuda()\n",
    "\n",
    "model.extras.apply(models.utils.xavier)\n",
    "model.loc.apply(models.utils.xavier)\n",
    "model.conf.apply(models.utils.xavier)\n",
    "\n",
    "optimizer = optim.SGD(model.parameters(), lr=TRAIN_CONFIG['initial_lr'],\n",
    "                      momentum=TRAIN_CONFIG['momentum'], \n",
    "                      weight_decay=TRAIN_CONFIG['weight_decay'])\n",
    "\n",
    "criterion = MultiBoxLoss(\n",
    "    DATA_CONFIG['n_classes'], 0.5, True, \n",
    "    0, True, 3, 0.5, False, True)\n",
    "\n",
    "lr_adjuster = learning_rates.ScheduledLR(\n",
    "    TRAIN_CONFIG['initial_lr'], 'mini_batch', \n",
    "    TRAIN_CONFIG['lr_schedule'])\n",
    "\n",
    "detect = Detect(DATA_CONFIG['n_classes'], bkg_label=0,\n",
    "                top_k=200, conf_thresh=0.01, nms_thresh=0.45)"
   ]
  },
  {
   "cell_type": "code",
   "execution_count": null,
   "metadata": {},
   "outputs": [],
   "source": [
    "# Load pretrained network\n",
    "model = ssd.build_ssd('train', DATA_CONFIG['img_rescale'], \n",
    "                     DATA_CONFIG['n_classes'])\n",
    "model.load_weights(os.path.join('/bigguy/data/pascalvoc/pretrained', 'ssd300_mAP_77.43_v2.pth'))"
   ]
  },
  {
   "cell_type": "code",
   "execution_count": null,
   "metadata": {
    "collapsed": true
   },
   "outputs": [],
   "source": [
    "trainer = training.trainers.SSDTrainer(\n",
    "    criterion, criterion, optimizer, lr_adjuster,\n",
    "    cfg.IDX_TO_LABEL, detect)"
   ]
  },
  {
   "cell_type": "code",
   "execution_count": null,
   "metadata": {
    "collapsed": true
   },
   "outputs": [],
   "source": [
    "img, targ, dims, idx = next(iter(val_loader))\n",
    "pred = predictions.bboxes.predict(model, img, dims, detect, thresh=0.6)"
   ]
  },
  {
   "cell_type": "code",
   "execution_count": 32,
   "metadata": {},
   "outputs": [],
   "source": [
    "preds = predictions.bboxes.get_predictions(model, tst_loader, detect, thresh=0.01)\n",
    "targs = {id_: meta['imgs'][id_] for id_ in tst_loader.dataset.img_ids}"
   ]
  },
  {
   "cell_type": "code",
   "execution_count": 33,
   "metadata": {
    "scrolled": false
   },
   "outputs": [],
   "source": [
    "label_level_aps = metrics.get_bb_label_level_aps(preds, targs, cfg.LABEL_NAMES, overlap_thresh=0.5)"
   ]
  },
  {
   "cell_type": "code",
   "execution_count": 34,
   "metadata": {
    "scrolled": false
   },
   "outputs": [
    {
     "data": {
      "text/html": [
       "<div>\n",
       "<style>\n",
       "    .dataframe thead tr:only-child th {\n",
       "        text-align: right;\n",
       "    }\n",
       "\n",
       "    .dataframe thead th {\n",
       "        text-align: left;\n",
       "    }\n",
       "\n",
       "    .dataframe tbody tr th {\n",
       "        vertical-align: top;\n",
       "    }\n",
       "</style>\n",
       "<table border=\"1\" class=\"dataframe\">\n",
       "  <thead>\n",
       "    <tr style=\"text-align: right;\">\n",
       "      <th></th>\n",
       "      <th>ap</th>\n",
       "      <th>fp</th>\n",
       "      <th>total_gt_bbs</th>\n",
       "      <th>tp</th>\n",
       "    </tr>\n",
       "  </thead>\n",
       "  <tbody>\n",
       "    <tr>\n",
       "      <th>aeroplane</th>\n",
       "      <td>0.819920</td>\n",
       "      <td>3953.0</td>\n",
       "      <td>285.0</td>\n",
       "      <td>269.0</td>\n",
       "    </tr>\n",
       "    <tr>\n",
       "      <th>bicycle</th>\n",
       "      <td>0.856286</td>\n",
       "      <td>3259.0</td>\n",
       "      <td>337.0</td>\n",
       "      <td>318.0</td>\n",
       "    </tr>\n",
       "    <tr>\n",
       "      <th>bird</th>\n",
       "      <td>0.758060</td>\n",
       "      <td>11673.0</td>\n",
       "      <td>459.0</td>\n",
       "      <td>412.0</td>\n",
       "    </tr>\n",
       "    <tr>\n",
       "      <th>boat</th>\n",
       "      <td>0.700820</td>\n",
       "      <td>11186.0</td>\n",
       "      <td>263.0</td>\n",
       "      <td>235.0</td>\n",
       "    </tr>\n",
       "    <tr>\n",
       "      <th>bottle</th>\n",
       "      <td>0.501501</td>\n",
       "      <td>27094.0</td>\n",
       "      <td>469.0</td>\n",
       "      <td>373.0</td>\n",
       "    </tr>\n",
       "    <tr>\n",
       "      <th>bus</th>\n",
       "      <td>0.847900</td>\n",
       "      <td>3078.0</td>\n",
       "      <td>213.0</td>\n",
       "      <td>209.0</td>\n",
       "    </tr>\n",
       "    <tr>\n",
       "      <th>car</th>\n",
       "      <td>0.859253</td>\n",
       "      <td>20395.0</td>\n",
       "      <td>1201.0</td>\n",
       "      <td>1149.0</td>\n",
       "    </tr>\n",
       "    <tr>\n",
       "      <th>cat</th>\n",
       "      <td>0.873588</td>\n",
       "      <td>2384.0</td>\n",
       "      <td>358.0</td>\n",
       "      <td>341.0</td>\n",
       "    </tr>\n",
       "    <tr>\n",
       "      <th>chair</th>\n",
       "      <td>0.620038</td>\n",
       "      <td>37177.0</td>\n",
       "      <td>756.0</td>\n",
       "      <td>679.0</td>\n",
       "    </tr>\n",
       "    <tr>\n",
       "      <th>cow</th>\n",
       "      <td>0.827261</td>\n",
       "      <td>1792.0</td>\n",
       "      <td>244.0</td>\n",
       "      <td>236.0</td>\n",
       "    </tr>\n",
       "    <tr>\n",
       "      <th>diningtable</th>\n",
       "      <td>0.791042</td>\n",
       "      <td>5997.0</td>\n",
       "      <td>206.0</td>\n",
       "      <td>199.0</td>\n",
       "    </tr>\n",
       "    <tr>\n",
       "      <th>dog</th>\n",
       "      <td>0.855757</td>\n",
       "      <td>3467.0</td>\n",
       "      <td>489.0</td>\n",
       "      <td>472.0</td>\n",
       "    </tr>\n",
       "    <tr>\n",
       "      <th>horse</th>\n",
       "      <td>0.871034</td>\n",
       "      <td>2044.0</td>\n",
       "      <td>348.0</td>\n",
       "      <td>333.0</td>\n",
       "    </tr>\n",
       "    <tr>\n",
       "      <th>motorbike</th>\n",
       "      <td>0.834378</td>\n",
       "      <td>2290.0</td>\n",
       "      <td>325.0</td>\n",
       "      <td>308.0</td>\n",
       "    </tr>\n",
       "    <tr>\n",
       "      <th>person</th>\n",
       "      <td>0.790857</td>\n",
       "      <td>67175.0</td>\n",
       "      <td>4528.0</td>\n",
       "      <td>4183.0</td>\n",
       "    </tr>\n",
       "    <tr>\n",
       "      <th>pottedplant</th>\n",
       "      <td>0.504050</td>\n",
       "      <td>25997.0</td>\n",
       "      <td>480.0</td>\n",
       "      <td>390.0</td>\n",
       "    </tr>\n",
       "    <tr>\n",
       "      <th>sheep</th>\n",
       "      <td>0.769102</td>\n",
       "      <td>3880.0</td>\n",
       "      <td>242.0</td>\n",
       "      <td>224.0</td>\n",
       "    </tr>\n",
       "    <tr>\n",
       "      <th>sofa</th>\n",
       "      <td>0.791242</td>\n",
       "      <td>2524.0</td>\n",
       "      <td>239.0</td>\n",
       "      <td>232.0</td>\n",
       "    </tr>\n",
       "    <tr>\n",
       "      <th>train</th>\n",
       "      <td>0.862327</td>\n",
       "      <td>3251.0</td>\n",
       "      <td>282.0</td>\n",
       "      <td>268.0</td>\n",
       "    </tr>\n",
       "    <tr>\n",
       "      <th>tvmonitor</th>\n",
       "      <td>0.762181</td>\n",
       "      <td>7900.0</td>\n",
       "      <td>308.0</td>\n",
       "      <td>286.0</td>\n",
       "    </tr>\n",
       "    <tr>\n",
       "      <th>mean</th>\n",
       "      <td>0.774830</td>\n",
       "      <td>12325.8</td>\n",
       "      <td>601.6</td>\n",
       "      <td>555.8</td>\n",
       "    </tr>\n",
       "  </tbody>\n",
       "</table>\n",
       "</div>"
      ],
      "text/plain": [
       "                   ap       fp  total_gt_bbs      tp\n",
       "aeroplane    0.819920   3953.0         285.0   269.0\n",
       "bicycle      0.856286   3259.0         337.0   318.0\n",
       "bird         0.758060  11673.0         459.0   412.0\n",
       "boat         0.700820  11186.0         263.0   235.0\n",
       "bottle       0.501501  27094.0         469.0   373.0\n",
       "bus          0.847900   3078.0         213.0   209.0\n",
       "car          0.859253  20395.0        1201.0  1149.0\n",
       "cat          0.873588   2384.0         358.0   341.0\n",
       "chair        0.620038  37177.0         756.0   679.0\n",
       "cow          0.827261   1792.0         244.0   236.0\n",
       "diningtable  0.791042   5997.0         206.0   199.0\n",
       "dog          0.855757   3467.0         489.0   472.0\n",
       "horse        0.871034   2044.0         348.0   333.0\n",
       "motorbike    0.834378   2290.0         325.0   308.0\n",
       "person       0.790857  67175.0        4528.0  4183.0\n",
       "pottedplant  0.504050  25997.0         480.0   390.0\n",
       "sheep        0.769102   3880.0         242.0   224.0\n",
       "sofa         0.791242   2524.0         239.0   232.0\n",
       "train        0.862327   3251.0         282.0   268.0\n",
       "tvmonitor    0.762181   7900.0         308.0   286.0\n",
       "mean         0.774830  12325.8         601.6   555.8"
      ]
     },
     "execution_count": 34,
     "metadata": {},
     "output_type": "execute_result"
    },
    {
     "data": {
      "image/png": "[encoded data removed]",
      "text/plain": [
       "<matplotlib.figure.Figure at 0x7f209159a7b8>"
      ]
     },
     "metadata": {},
     "output_type": "display_data"
    },
    {
     "data": {
      "image/png": "[encoded data removed]",
      "text/plain": [
       "<matplotlib.figure.Figure at 0x7f209159a908>"
      ]
     },
     "metadata": {},
     "output_type": "display_data"
    }
   ],
   "source": [
    "metrics.bboxes.plot_label_level_aps(label_level_aps)\n",
    "metrics.bboxes.plot_label_level_bb_counts(label_level_aps)\n",
    "df = metrics.bboxes.get_label_level_bb_metrics(label_level_aps)\n",
    "df"
   ]
  },
  {
   "cell_type": "code",
   "execution_count": null,
   "metadata": {
    "collapsed": true
   },
   "outputs": [],
   "source": [
    "#trainer.test(model, val_loader, TRAIN_CONFIG['threshold'], metrics=[metric.Loss()])\n",
    "#trainer.train(model, val_loader, TRAIN_CONFIG['threshold'], metrics=[metric.Loss()])"
   ]
  },
  {
   "cell_type": "markdown",
   "metadata": {},
   "source": [
    "## Train"
   ]
  },
  {
   "cell_type": "code",
   "execution_count": null,
   "metadata": {
    "collapsed": true
   },
   "outputs": [],
   "source": [
    "# Load existing weights (optional)\n",
    "experiment_name = 'SSD-SGD-ScheduledLR-img300-lr0.001-wd0.0005-bs16-fold1-idBED91'\n",
    "epoch = 87\n",
    "exp_utils.load_weights_by_exp_and_epoch(model, experiment_name, epoch)"
   ]
  },
  {
   "cell_type": "code",
   "execution_count": null,
   "metadata": {
    "collapsed": true
   },
   "outputs": [],
   "source": [
    "# Experiment config\n",
    "NEW_EXP_NAME = ''\n",
    "RESUME_EXP_NAME = 'SSD-SGD-ScheduledLR-img300-lr0.001-wd0.0005-bs16-fold1-idBED91'\n",
    "if not RESUME_EXP_NAME:\n",
    "    EXP_NAME_ARGS = [utils.general.get_class_name(model), \n",
    "                    utils.general.get_class_name(optimizer), \n",
    "                    utils.general.get_class_name(lr_adjuster),\n",
    "                    'img'+str(DATA_CONFIG['img_rescale']),\n",
    "                    'lr'+str(TRAIN_CONFIG['initial_lr']),\n",
    "                    'wd'+str(TRAIN_CONFIG['weight_decay']),\n",
    "                    'bs'+str(TRAIN_CONFIG['batch_size']),\n",
    "                    str(DATA_CONFIG['dset_fold'])]\n",
    "    EXPERIMENT_NAME = exp_utils.generate_display_name(NEW_EXP_NAME, EXP_NAME_ARGS)\n",
    "    METRICS = [metric.Loss()]#, metric.Accuracy(), metric.F2Score()]\n",
    "    AUX_METRICS = [metric.AuxiliaryMetric('LearningRate', 'lr'), \n",
    "                   metric.AuxiliaryMetric('SystemMemory', 'mb')]\n",
    "    VISUALIZERS = [Viz(EXPERIMENT_NAME)]\n",
    "\n",
    "    EXP_CONFIG = {\n",
    "        'name': EXPERIMENT_NAME,\n",
    "        'parent_dir': cfg.PATHS['experiments'],\n",
    "        'metrics': METRICS,\n",
    "        'aux_metrics': AUX_METRICS,\n",
    "        'visualizers': VISUALIZERS,\n",
    "        'data': DATA_CONFIG,\n",
    "        'training': TRAIN_CONFIG,\n",
    "        'other': OTHER_CONFIG,\n",
    "        'transforms': TRANSFORMS[c.TRAIN],\n",
    "        'hardware': HARDWARE_CONFIG,\n",
    "        'model': model,\n",
    "        'optimizer': optimizer,\n",
    "        'lr_adjuster': lr_adjuster,\n",
    "        'criterion': criterion\n",
    "    }"
   ]
  },
  {
   "cell_type": "code",
   "execution_count": null,
   "metadata": {
    "collapsed": true,
    "scrolled": false
   },
   "outputs": [],
   "source": [
    "# Resume experiment\n",
    "exp = Experiment(RESUME_EXP_NAME, cfg.PATHS['experiments'])\n",
    "exp.resume(verbose=True)\n",
    "trainer = training.trainers.SSDTrainer(\n",
    "    criterion, criterion, optimizer, lr_adjuster,\n",
    "    cfg.IDX_TO_LABEL, detect)"
   ]
  },
  {
   "cell_type": "code",
   "execution_count": null,
   "metadata": {
    "collapsed": true
   },
   "outputs": [],
   "source": [
    "# Create new experiment\n",
    "exp = Experiment(EXP_CONFIG['name'], cfg.PATHS['experiments'])\n",
    "exp.init(EXP_CONFIG)\n",
    "print(exp.name)"
   ]
  },
  {
   "cell_type": "code",
   "execution_count": null,
   "metadata": {
    "collapsed": true
   },
   "outputs": [],
   "source": [
    "exp.config.training = TRAIN_CONFIG"
   ]
  },
  {
   "cell_type": "code",
   "execution_count": null,
   "metadata": {
    "collapsed": true,
    "scrolled": false
   },
   "outputs": [],
   "source": [
    "exp.train(trainer, trn_loader, val_loader)"
   ]
  },
  {
   "cell_type": "markdown",
   "metadata": {},
   "source": [
    "## Predict"
   ]
  },
  {
   "cell_type": "code",
   "execution_count": null,
   "metadata": {
    "collapsed": true
   },
   "outputs": [],
   "source": [
    "# Load model from exp epoch\n",
    "exp.load_model_state(epoch=10)\n",
    "model = exp.model"
   ]
  },
  {
   "cell_type": "code",
   "execution_count": null,
   "metadata": {
    "collapsed": true
   },
   "outputs": [],
   "source": [
    "preds = trainer.get_predictions(model, val_loader, thresh=0.6)"
   ]
  },
  {
   "cell_type": "code",
   "execution_count": null,
   "metadata": {
    "collapsed": true
   },
   "outputs": [],
   "source": [
    "img, targs, dims, idx = next(iter(val_loader))\n",
    "bboxes = trainer.predict(model, img, dims, thresh=0.6)"
   ]
  },
  {
   "cell_type": "code",
   "execution_count": null,
   "metadata": {
    "collapsed": true
   },
   "outputs": [],
   "source": [
    "idx = random.randint(0,len(preds))\n",
    "img_arr = utils.imgs.load_img_as_arr(os.path.join(TRAIN_PATH, preds[idx]['img_id']+c.JPG_EXT))\n",
    "utils.imgs.plot_img_w_bboxes(img_arr, preds[idx]['bboxes'], title=preds[idx]['img_id'])"
   ]
  },
  {
   "cell_type": "code",
   "execution_count": null,
   "metadata": {
    "collapsed": true
   },
   "outputs": [],
   "source": [
    "pred_utils.save_obj_detect_pred('ssd', preds, None, 0.6, c.VAL)"
   ]
  },
  {
   "cell_type": "code",
   "execution_count": null,
   "metadata": {
    "collapsed": true
   },
   "outputs": [],
   "source": [
    "rec, prec, ap = voc_eval(\n",
    "   filename, annopath, imgsetpath.format(set_type), cls, cachedir,\n",
    "   ovthresh=0.5, use_07_metric=use_07_metric)\n",
    "aps += [ap]\n",
    "print('AP for {} = {:.4f}'.format(cls, ap))"
   ]
  },
  {
   "cell_type": "code",
   "execution_count": null,
   "metadata": {
    "collapsed": true
   },
   "outputs": [],
   "source": [
    "# OR load custom model weights\n",
    "exp_name = RESUME_EXP_NAME\n",
    "w_path = os.path.join(cfg.PATHS['experiments'], exp_name, 'weights', 'weights-30.th')\n",
    "models.utils.load_weights(model, w_path)"
   ]
  },
  {
   "cell_type": "code",
   "execution_count": null,
   "metadata": {
    "collapsed": true,
    "scrolled": false
   },
   "outputs": [],
   "source": [
    "%time val_probs = predictions.get_probabilities(model, val_loader)"
   ]
  },
  {
   "cell_type": "code",
   "execution_count": null,
   "metadata": {
    "collapsed": true
   },
   "outputs": [],
   "source": [
    "pred_fpath = predictions.get_prediction_fpath(basename='my_exp', dset=c.VAL)\n",
    "_ = predictions.save_or_append_pred_to_file(pred_fpath, val_probs)"
   ]
  },
  {
   "cell_type": "code",
   "execution_count": null,
   "metadata": {
    "collapsed": true,
    "scrolled": false
   },
   "outputs": [],
   "source": [
    "thresh = TRAIN_CONFIG['threshold']\n",
    "acc = metric_utils.get_accuracy(val_probs > thresh, val_targs)\n",
    "f2 = metric_utils.get_metric_in_blocks(val_probs > thresh, val_targs, \n",
    "                                       1000, metric_utils.get_f2_score)\n",
    "loss = metric_utils.get_cross_entropy_loss(val_probs, val_targs)\n",
    "print(\"Acc\",acc,\"F2\",f2,\"BCE\",loss)\n",
    "utils.imgs.plot_sample_preds(val_fpaths, val_probs > 0.5, val_targs, \n",
    "                             dogscats.LABEL_NAMES)"
   ]
  },
  {
   "cell_type": "code",
   "execution_count": null,
   "metadata": {
    "collapsed": true,
    "scrolled": false
   },
   "outputs": [],
   "source": [
    "%time tst_probs = predictions.get_probabilities(model, tst_loader)"
   ]
  },
  {
   "cell_type": "code",
   "execution_count": null,
   "metadata": {
    "collapsed": true
   },
   "outputs": [],
   "source": [
    "pred_fpath = predictions.get_prediction_fpath(basename='my_exp', dset=c.TEST)\n",
    "_ = predictions.save_or_append_pred_to_file(pred_fpath, tst_probs)\n",
    "tst_probs = predictions.load_pred(pred_fpath, numpy=True)\n",
    "utils.imgs.plot_sample_preds(tst_fpaths, tst_probs > thresh, \n",
    "                             None, dogscats.LABEL_NAMES)"
   ]
  },
  {
   "cell_type": "markdown",
   "metadata": {
    "collapsed": true
   },
   "source": [
    "## Ensemble"
   ]
  },
  {
   "cell_type": "code",
   "execution_count": null,
   "metadata": {
    "collapsed": true
   },
   "outputs": [],
   "source": [
    "member_fpaths = predictions.list_local_preds(dset=c.TEST, fnames_only=False)\n",
    "member_fpaths"
   ]
  },
  {
   "cell_type": "code",
   "execution_count": null,
   "metadata": {
    "collapsed": true
   },
   "outputs": [],
   "source": [
    "ens_fpath = ensembles.get_ensemble_fpath(basename='my_exp', dset=c.TEST)\n",
    "_ = ensembles.ens_prediction_files(\n",
    "    ens_fpath, member_fpaths, block_size=1000, method=c.MEAN)\n",
    "ens_probs = predictions.load_pred(ens_fpath, numpy=True)"
   ]
  },
  {
   "cell_type": "markdown",
   "metadata": {
    "collapsed": true
   },
   "source": [
    "## Submit"
   ]
  },
  {
   "cell_type": "code",
   "execution_count": null,
   "metadata": {
    "collapsed": true
   },
   "outputs": [],
   "source": [
    "tst_probs = predictions.load_pred(pred_fpath, numpy=True)"
   ]
  },
  {
   "cell_type": "code",
   "execution_count": null,
   "metadata": {
    "collapsed": true
   },
   "outputs": [],
   "source": [
    "sub_fpath = submissions.get_sub_path_from_pred_path(pred_fpath)\n",
    "fnames = utils.files.get_fnames_from_fpaths(tst_fpaths)\n",
    "sub_ids = [f.split('.')[0] for f in fnames]\n",
    "tst_probs = np.clip(tst_probs, .005, .995) #good for BCE problems\n",
    "submissions.make_preds_submission(sub_fpath, sub_ids, \n",
    "                                  np.expand_dims(tst_probs[:,1],1), \n",
    "                                  dogscats.SUB_HEADER)"
   ]
  },
  {
   "cell_type": "code",
   "execution_count": null,
   "metadata": {
    "collapsed": true
   },
   "outputs": [],
   "source": [
    "# https://www.kaggle.com/c/dogs-vs-cats-redux-kernels-edition\n",
    "# Public Leaderboard .0566, Top 8%\n",
    "# kg submit -m 'my sub' -c dogs-vs-cats-redux-kernels-edition -v -u USERNAME -p PASSWORD planet_tst.csv\n",
    "FileLink(sub_fpath)"
   ]
  },
  {
   "cell_type": "markdown",
   "metadata": {},
   "source": [
    "## Evaluate"
   ]
  },
  {
   "cell_type": "code",
   "execution_count": null,
   "metadata": {
    "collapsed": true,
    "scrolled": false
   },
   "outputs": [],
   "source": [
    "# Review Experiment\n",
    "exp_name = 'BaselineSimpleResnet-Adam-ScheduledLR-img256-lr0.001-wd0.0005-bs64-fold4K-id84E8D'\n",
    "exp = Experiment(exp_name, cfg.PATHS['experiments'])\n",
    "exp.review(verbose=False)\n",
    "exp.history.plot()"
   ]
  },
  {
   "cell_type": "code",
   "execution_count": null,
   "metadata": {
    "collapsed": true
   },
   "outputs": [],
   "source": [
    "# Load Pred\n",
    "fname = 'my_exp_val.bc'\n",
    "thresh = TRAIN_CONFIG['threshold']\n",
    "probs = predictions.load_pred(os.path.join(cfg.PATHS['predictions'], fname))\n",
    "preds = predictions.get_predictions(probs, thresh)"
   ]
  },
  {
   "cell_type": "code",
   "execution_count": null,
   "metadata": {
    "collapsed": true
   },
   "outputs": [],
   "source": [
    "# View preds, probs, and targets\n",
    "eval_df = evaluate.get_evaluate_df(preds, probs, val_targs, \n",
    "                                   val_fpaths, dogscats.LABEL_NAMES)\n",
    "eval_df[:5]"
   ]
  },
  {
   "cell_type": "code",
   "execution_count": null,
   "metadata": {
    "collapsed": true
   },
   "outputs": [],
   "source": [
    "# View preds by label\n",
    "LABEL = 'dog'\n",
    "dog_preds_by_targ = evaluate.get_preds_by_target_label(\n",
    "    eval_df, LABEL, condensed=False)\n",
    "dog_preds_by_pred = evaluate.get_preds_by_predicted_label(\n",
    "    eval_df, LABEL, condensed=False)\n",
    "dog_preds_by_targ[:5]"
   ]
  },
  {
   "cell_type": "code",
   "execution_count": null,
   "metadata": {
    "collapsed": true
   },
   "outputs": [],
   "source": [
    "# View preds by probability\n",
    "\n",
    "# Confident dogs and right (TP)\n",
    "confident_dogs_tp = evaluate.get_preds_by_target_and_prob(\n",
    "    eval_df, 'dog', 1, p_min=0.9, p_max=1.0)\n",
    "# Confident dogs and wrong (FP)\n",
    "confident_dogs_fp = evaluate.get_preds_by_target_and_prob(\n",
    "    eval_df, 'dog', 0, p_min=0.9, p_max=1.0)\n",
    "# Unconfident dogs and right (TN)\n",
    "unconfident_dogs_tn = evaluate.get_preds_by_target_and_prob(\n",
    "    eval_df, 'dog', 0, p_min=0.0, p_max=0.1)\n",
    "# Unconfident dogs and wrong (FN)\n",
    "unconfident_dogs_fn = evaluate.get_preds_by_target_and_prob(\n",
    "    eval_df, 'dog', 1, p_min=0.0, p_max=0.1)\n",
    "\n",
    "# Annotation errors?\n",
    "evaluate.plot_predictions(unconfident_dogs_fn, dogscats.LABEL_NAMES)\n",
    "unconfident_dogs_fn"
   ]
  },
  {
   "cell_type": "code",
   "execution_count": null,
   "metadata": {
    "collapsed": true
   },
   "outputs": [],
   "source": [
    "# View predictions and probabilities\n",
    "evaluate.plot_predictions(eval_df, dogscats.LABEL_NAMES)"
   ]
  },
  {
   "cell_type": "code",
   "execution_count": null,
   "metadata": {
    "collapsed": true
   },
   "outputs": [],
   "source": [
    "# Confusion Matrix\n",
    "evaluate.plot_label_level_cms(eval_df, dogscats.LABEL_NAMES)"
   ]
  },
  {
   "cell_type": "code",
   "execution_count": null,
   "metadata": {
    "collapsed": true
   },
   "outputs": [],
   "source": [
    "# Plot ROC Curve\n",
    "evaluate.plot_roc_curve(np.array(probs), val_targs)"
   ]
  },
  {
   "cell_type": "code",
   "execution_count": null,
   "metadata": {
    "collapsed": true
   },
   "outputs": [],
   "source": []
  }
 ],
 "metadata": {
  "kernelspec": {
   "display_name": "Python 3",
   "language": "python",
   "name": "python3"
  },
  "language_info": {
   "codemirror_mode": {
    "name": "ipython",
    "version": 3
   },
   "file_extension": ".py",
   "mimetype": "text/x-python",
   "name": "python",
   "nbconvert_exporter": "python",
   "pygments_lexer": "ipython3",
   "version": "3.6.0"
  },
  "latex_envs": {
   "LaTeX_envs_menu_present": true,
   "autocomplete": true,
   "bibliofile": "biblio.bib",
   "cite_by": "apalike",
   "current_citInitial": 1,
   "eqLabelWithNumbers": true,
   "eqNumInitial": 1,
   "hotkeys": {
    "equation": "Ctrl-E",
    "itemize": "Ctrl-I"
   },
   "labels_anchors": false,
   "latex_user_defs": false,
   "report_style_numbering": false,
   "user_envs_cfg": false
  },
  "toc": {
   "colors": {
    "hover_highlight": "#DAA520",
    "navigate_num": "#000000",
    "navigate_text": "#333333",
    "running_highlight": "#FF0000",
    "selected_highlight": "#FFD700",
    "sidebar_border": "#EEEEEE",
    "wrapper_background": "#FFFFFF"
   },
   "moveMenuLeft": true,
   "nav_menu": {
    "height": "4px",
    "width": "254px"
   },
   "navigate_menu": true,
   "number_sections": true,
   "sideBar": true,
   "threshold": 4,
   "toc_cell": false,
   "toc_section_display": "block",
   "toc_window_display": false,
   "widenNotebook": false
  }
 },
 "nbformat": 4,
 "nbformat_minor": 2
}
